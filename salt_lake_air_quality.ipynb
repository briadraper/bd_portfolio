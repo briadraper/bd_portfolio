{
  "nbformat": 4,
  "nbformat_minor": 0,
  "metadata": {
    "colab": {
      "name": "salt_lake_air_quality.ipynb",
      "provenance": [],
      "collapsed_sections": [],
      "authorship_tag": "ABX9TyNn8mEZMT7Yqj/OYbDMXMeO",
      "include_colab_link": true
    },
    "kernelspec": {
      "name": "python3",
      "display_name": "Python 3"
    },
    "language_info": {
      "name": "python"
    }
  },
  "cells": [
    {
      "cell_type": "markdown",
      "metadata": {
        "id": "view-in-github",
        "colab_type": "text"
      },
      "source": [
        "<a href=\"https://colab.research.google.com/github/briadraper/bd_portfolio/blob/main/salt_lake_air_quality.ipynb\" target=\"_parent\"><img src=\"https://colab.research.google.com/assets/colab-badge.svg\" alt=\"Open In Colab\"/></a>"
      ]
    },
    {
      "cell_type": "markdown",
      "metadata": {
        "id": "d8DU3mtnQcGB"
      },
      "source": [
        "INTRODUCTION\n",
        "\n",
        "\n",
        "---\n",
        "\n",
        "\n",
        "data source - https://www.kaggle.com/sogun3/uspollution\n",
        "\n",
        "The EPA collects air quality data across the United States at outdoor monitors. They provide access to this information for any concerned citizen. \n",
        "\n",
        "The dataset I used was provided on Kaggle. It was accessed through an API and cleaned. It was offered in a CSV format. \n",
        "\n",
        "Each row of the dataset provides the location, sample date, and units, mean, 1st Max Value, 1st Max Hour and AQI for each pollutant. The pollutants being measured are Nitrogen Dioxide (NO2), Sulfur Dioxide (SO2), Ozone (O3) and Carbon Monoxide (CO).\n",
        "\n",
        "The metric I am analyzing is AQI. This is an index for reporting air quality. It tells how clean or polluted the air is. It ranges from 0-500. An AQI of 0 - 50 represents good air quality with little potential to affect public health. The higher the AQI the worse for people's health.\n"
      ]
    },
    {
      "cell_type": "markdown",
      "metadata": {
        "id": "8W03LA1SGZF_"
      },
      "source": [
        "OBJECTIVE\n",
        "\n",
        "\n",
        "---\n",
        "\n",
        "\n",
        "I want to use this data to evaluate the air quality in Salt Lake City compared to cities of similar metropolitan size and population density. Salt Lake City is in a basin surrounded by mountains. It experiences weather inversions that trap pollution resulting in poor air quality. Salt Lake is also experiencing the fastest population growth in the country at 17% from 2010 to 2020.\n",
        "I want to compare the average AQI for Salt Lake to other comparable cities to see if the topography and weather of Salt Lake are resulting in significantly worse air quality.\n",
        "The comparison cities were chosen based on their metro population and population density.\n",
        "\n",
        "*   Salt Lake City, UT\n",
        "        2010 Metro Population - 1.08 M\n",
        "        Population Density persons/sq mi - 1,742\n",
        "\n",
        "*   Oklahoma City, OK\n",
        "        2010 Metro Population - 1.252 M\n",
        "        Population Density persons/sq mi - 1,053\n",
        "        \n",
        "*   Raleigh, NC\n",
        "        2010 Metro Population - 1.13 M\n",
        "        Population Density persons/sq mi - 1,221\n",
        "\n",
        "*   Birmingham, AL\n",
        "        2010 Metro Population - 1.06 M\n",
        "        Population Density persons/sq mi - 1,452\n",
        "\n",
        "*   Louisville, KY\n",
        "        2010 Metro Population - 1.2 M\n",
        "        Population Density persons/sq mi - 2,339\n",
        "\n",
        "For the comparison group(Oklahoma City, Raleigh, Birmingham and Louisville) the average metro population is 1.16 M and the average population density is 1,517/sq mi.\n",
        "The time period for accepted sampling is 2011 to 2016.\n"
      ]
    },
    {
      "cell_type": "markdown",
      "metadata": {
        "id": "i6KAvFrH7buB"
      },
      "source": [
        "HYPOTHESIS\n",
        "\n",
        "\n",
        "---\n",
        "\n",
        "For each pollutant (NO2, SO2, O3 and CO), \n",
        "the null hypothesis states that there is no difference in the mean AQI between Salt Lake City and the comparison group.\n",
        "\n",
        "H₀: μ₁ - μ₂ = 0 \n",
        "\n",
        "The alternative hypothesis states that there is a difference in the mean AQI between Salt Lake City and the comparison group.\n",
        "\n",
        "Hₐ: μ₁ - μ₂ ≠ 0"
      ]
    },
    {
      "cell_type": "code",
      "metadata": {
        "colab": {
          "base_uri": "https://localhost:8080/"
        },
        "id": "ONYKD-yf73Zc",
        "outputId": "bd4529c3-9cba-4f69-db22-cd20a3870de9"
      },
      "source": [
        "from google.colab import drive\n",
        "drive.mount('/content/gdrive')"
      ],
      "execution_count": null,
      "outputs": [
        {
          "output_type": "stream",
          "text": [
            "Mounted at /content/gdrive\n"
          ],
          "name": "stdout"
        }
      ]
    },
    {
      "cell_type": "code",
      "metadata": {
        "id": "FQi4-CzeF1t0"
      },
      "source": [
        "import numpy as np\n",
        "import seaborn as sns\n",
        "from scipy import stats\n",
        "import pandas as pd\n",
        "\n",
        "\n",
        "sns.set_style('white')\n",
        "\n",
        "import warnings\n",
        "warnings.filterwarnings(\"ignore\")\n",
        "\n",
        "#allow full result to display \n",
        "pd.options.display.max_seq_items = 500\n"
      ],
      "execution_count": null,
      "outputs": []
    },
    {
      "cell_type": "code",
      "metadata": {
        "colab": {
          "base_uri": "https://localhost:8080/",
          "height": 700
        },
        "id": "i2UzM8FL90wP",
        "outputId": "c4242f3e-94d1-470c-8e63-e81dd431afaa"
      },
      "source": [
        "\n",
        "path = '/content/gdrive/MyDrive/Colab  Datasets/pollute.csv'\n",
        "master_pollute_df = pd.read_csv(path)\n",
        "master_pollute_df.head()"
      ],
      "execution_count": null,
      "outputs": [
        {
          "output_type": "execute_result",
          "data": {
            "text/html": [
              "<div>\n",
              "<style scoped>\n",
              "    .dataframe tbody tr th:only-of-type {\n",
              "        vertical-align: middle;\n",
              "    }\n",
              "\n",
              "    .dataframe tbody tr th {\n",
              "        vertical-align: top;\n",
              "    }\n",
              "\n",
              "    .dataframe thead th {\n",
              "        text-align: right;\n",
              "    }\n",
              "</style>\n",
              "<table border=\"1\" class=\"dataframe\">\n",
              "  <thead>\n",
              "    <tr style=\"text-align: right;\">\n",
              "      <th></th>\n",
              "      <th>Unnamed: 0</th>\n",
              "      <th>State Code</th>\n",
              "      <th>County Code</th>\n",
              "      <th>Site Num</th>\n",
              "      <th>Address</th>\n",
              "      <th>State</th>\n",
              "      <th>County</th>\n",
              "      <th>City</th>\n",
              "      <th>Date Local</th>\n",
              "      <th>NO2 Units</th>\n",
              "      <th>NO2 Mean</th>\n",
              "      <th>NO2 1st Max Value</th>\n",
              "      <th>NO2 1st Max Hour</th>\n",
              "      <th>NO2 AQI</th>\n",
              "      <th>O3 Units</th>\n",
              "      <th>O3 Mean</th>\n",
              "      <th>O3 1st Max Value</th>\n",
              "      <th>O3 1st Max Hour</th>\n",
              "      <th>O3 AQI</th>\n",
              "      <th>SO2 Units</th>\n",
              "      <th>SO2 Mean</th>\n",
              "      <th>SO2 1st Max Value</th>\n",
              "      <th>SO2 1st Max Hour</th>\n",
              "      <th>SO2 AQI</th>\n",
              "      <th>CO Units</th>\n",
              "      <th>CO Mean</th>\n",
              "      <th>CO 1st Max Value</th>\n",
              "      <th>CO 1st Max Hour</th>\n",
              "      <th>CO AQI</th>\n",
              "    </tr>\n",
              "  </thead>\n",
              "  <tbody>\n",
              "    <tr>\n",
              "      <th>0</th>\n",
              "      <td>0</td>\n",
              "      <td>4</td>\n",
              "      <td>13</td>\n",
              "      <td>3002</td>\n",
              "      <td>1645 E ROOSEVELT ST-CENTRAL PHOENIX STN</td>\n",
              "      <td>Arizona</td>\n",
              "      <td>Maricopa</td>\n",
              "      <td>Phoenix</td>\n",
              "      <td>2000-01-01</td>\n",
              "      <td>Parts per billion</td>\n",
              "      <td>19.041667</td>\n",
              "      <td>49.0</td>\n",
              "      <td>19</td>\n",
              "      <td>46</td>\n",
              "      <td>Parts per million</td>\n",
              "      <td>0.022500</td>\n",
              "      <td>0.040</td>\n",
              "      <td>10</td>\n",
              "      <td>34</td>\n",
              "      <td>Parts per billion</td>\n",
              "      <td>3.000000</td>\n",
              "      <td>9.0</td>\n",
              "      <td>21</td>\n",
              "      <td>13.0</td>\n",
              "      <td>Parts per million</td>\n",
              "      <td>1.145833</td>\n",
              "      <td>4.2</td>\n",
              "      <td>21</td>\n",
              "      <td>NaN</td>\n",
              "    </tr>\n",
              "    <tr>\n",
              "      <th>1</th>\n",
              "      <td>1</td>\n",
              "      <td>4</td>\n",
              "      <td>13</td>\n",
              "      <td>3002</td>\n",
              "      <td>1645 E ROOSEVELT ST-CENTRAL PHOENIX STN</td>\n",
              "      <td>Arizona</td>\n",
              "      <td>Maricopa</td>\n",
              "      <td>Phoenix</td>\n",
              "      <td>2000-01-01</td>\n",
              "      <td>Parts per billion</td>\n",
              "      <td>19.041667</td>\n",
              "      <td>49.0</td>\n",
              "      <td>19</td>\n",
              "      <td>46</td>\n",
              "      <td>Parts per million</td>\n",
              "      <td>0.022500</td>\n",
              "      <td>0.040</td>\n",
              "      <td>10</td>\n",
              "      <td>34</td>\n",
              "      <td>Parts per billion</td>\n",
              "      <td>3.000000</td>\n",
              "      <td>9.0</td>\n",
              "      <td>21</td>\n",
              "      <td>13.0</td>\n",
              "      <td>Parts per million</td>\n",
              "      <td>0.878947</td>\n",
              "      <td>2.2</td>\n",
              "      <td>23</td>\n",
              "      <td>25.0</td>\n",
              "    </tr>\n",
              "    <tr>\n",
              "      <th>2</th>\n",
              "      <td>2</td>\n",
              "      <td>4</td>\n",
              "      <td>13</td>\n",
              "      <td>3002</td>\n",
              "      <td>1645 E ROOSEVELT ST-CENTRAL PHOENIX STN</td>\n",
              "      <td>Arizona</td>\n",
              "      <td>Maricopa</td>\n",
              "      <td>Phoenix</td>\n",
              "      <td>2000-01-01</td>\n",
              "      <td>Parts per billion</td>\n",
              "      <td>19.041667</td>\n",
              "      <td>49.0</td>\n",
              "      <td>19</td>\n",
              "      <td>46</td>\n",
              "      <td>Parts per million</td>\n",
              "      <td>0.022500</td>\n",
              "      <td>0.040</td>\n",
              "      <td>10</td>\n",
              "      <td>34</td>\n",
              "      <td>Parts per billion</td>\n",
              "      <td>2.975000</td>\n",
              "      <td>6.6</td>\n",
              "      <td>23</td>\n",
              "      <td>NaN</td>\n",
              "      <td>Parts per million</td>\n",
              "      <td>1.145833</td>\n",
              "      <td>4.2</td>\n",
              "      <td>21</td>\n",
              "      <td>NaN</td>\n",
              "    </tr>\n",
              "    <tr>\n",
              "      <th>3</th>\n",
              "      <td>3</td>\n",
              "      <td>4</td>\n",
              "      <td>13</td>\n",
              "      <td>3002</td>\n",
              "      <td>1645 E ROOSEVELT ST-CENTRAL PHOENIX STN</td>\n",
              "      <td>Arizona</td>\n",
              "      <td>Maricopa</td>\n",
              "      <td>Phoenix</td>\n",
              "      <td>2000-01-01</td>\n",
              "      <td>Parts per billion</td>\n",
              "      <td>19.041667</td>\n",
              "      <td>49.0</td>\n",
              "      <td>19</td>\n",
              "      <td>46</td>\n",
              "      <td>Parts per million</td>\n",
              "      <td>0.022500</td>\n",
              "      <td>0.040</td>\n",
              "      <td>10</td>\n",
              "      <td>34</td>\n",
              "      <td>Parts per billion</td>\n",
              "      <td>2.975000</td>\n",
              "      <td>6.6</td>\n",
              "      <td>23</td>\n",
              "      <td>NaN</td>\n",
              "      <td>Parts per million</td>\n",
              "      <td>0.878947</td>\n",
              "      <td>2.2</td>\n",
              "      <td>23</td>\n",
              "      <td>25.0</td>\n",
              "    </tr>\n",
              "    <tr>\n",
              "      <th>4</th>\n",
              "      <td>4</td>\n",
              "      <td>4</td>\n",
              "      <td>13</td>\n",
              "      <td>3002</td>\n",
              "      <td>1645 E ROOSEVELT ST-CENTRAL PHOENIX STN</td>\n",
              "      <td>Arizona</td>\n",
              "      <td>Maricopa</td>\n",
              "      <td>Phoenix</td>\n",
              "      <td>2000-01-02</td>\n",
              "      <td>Parts per billion</td>\n",
              "      <td>22.958333</td>\n",
              "      <td>36.0</td>\n",
              "      <td>19</td>\n",
              "      <td>34</td>\n",
              "      <td>Parts per million</td>\n",
              "      <td>0.013375</td>\n",
              "      <td>0.032</td>\n",
              "      <td>10</td>\n",
              "      <td>27</td>\n",
              "      <td>Parts per billion</td>\n",
              "      <td>1.958333</td>\n",
              "      <td>3.0</td>\n",
              "      <td>22</td>\n",
              "      <td>4.0</td>\n",
              "      <td>Parts per million</td>\n",
              "      <td>0.850000</td>\n",
              "      <td>1.6</td>\n",
              "      <td>23</td>\n",
              "      <td>NaN</td>\n",
              "    </tr>\n",
              "  </tbody>\n",
              "</table>\n",
              "</div>"
            ],
            "text/plain": [
              "   Unnamed: 0  State Code  ...  CO 1st Max Hour  CO AQI\n",
              "0           0           4  ...               21     NaN\n",
              "1           1           4  ...               23    25.0\n",
              "2           2           4  ...               21     NaN\n",
              "3           3           4  ...               23    25.0\n",
              "4           4           4  ...               23     NaN\n",
              "\n",
              "[5 rows x 29 columns]"
            ]
          },
          "metadata": {
            "tags": []
          },
          "execution_count": 5
        }
      ]
    },
    {
      "cell_type": "markdown",
      "metadata": {
        "id": "BUCkQRF39b_t"
      },
      "source": [
        "DATA EXPLORATION\n",
        "\n",
        "\n",
        "\n",
        "---\n",
        "\n",
        "To test my hypthesis, I needed the data sorted.\n",
        "\n",
        "I first dropped any rows with null values.\n",
        "\n",
        "I grouped the data into each city of interest and evaluated which years were present in the group. I didn't want any values from before 2011 or after 2016, which were the years I had available for the samples collected in Salt Lake. \n",
        "\n",
        "I ran descriptive statistics for each city to get an idea of what the range of AQI was for each pollutant. "
      ]
    },
    {
      "cell_type": "code",
      "metadata": {
        "colab": {
          "base_uri": "https://localhost:8080/"
        },
        "id": "OCzAXYebGIk8",
        "outputId": "a3ffc305-30bd-4676-95b3-55996606da50"
      },
      "source": [
        "#drop rows with missing values\n",
        "clean_master_pollute_df = master_pollute_df.dropna(axis='rows')\n",
        "clean_master_pollute_df.info()"
      ],
      "execution_count": null,
      "outputs": [
        {
          "output_type": "stream",
          "text": [
            "<class 'pandas.core.frame.DataFrame'>\n",
            "Int64Index: 436876 entries, 1 to 1746658\n",
            "Data columns (total 29 columns):\n",
            " #   Column             Non-Null Count   Dtype  \n",
            "---  ------             --------------   -----  \n",
            " 0   Unnamed: 0         436876 non-null  int64  \n",
            " 1   State Code         436876 non-null  int64  \n",
            " 2   County Code        436876 non-null  int64  \n",
            " 3   Site Num           436876 non-null  int64  \n",
            " 4   Address            436876 non-null  object \n",
            " 5   State              436876 non-null  object \n",
            " 6   County             436876 non-null  object \n",
            " 7   City               436876 non-null  object \n",
            " 8   Date Local         436876 non-null  object \n",
            " 9   NO2 Units          436876 non-null  object \n",
            " 10  NO2 Mean           436876 non-null  float64\n",
            " 11  NO2 1st Max Value  436876 non-null  float64\n",
            " 12  NO2 1st Max Hour   436876 non-null  int64  \n",
            " 13  NO2 AQI            436876 non-null  int64  \n",
            " 14  O3 Units           436876 non-null  object \n",
            " 15  O3 Mean            436876 non-null  float64\n",
            " 16  O3 1st Max Value   436876 non-null  float64\n",
            " 17  O3 1st Max Hour    436876 non-null  int64  \n",
            " 18  O3 AQI             436876 non-null  int64  \n",
            " 19  SO2 Units          436876 non-null  object \n",
            " 20  SO2 Mean           436876 non-null  float64\n",
            " 21  SO2 1st Max Value  436876 non-null  float64\n",
            " 22  SO2 1st Max Hour   436876 non-null  int64  \n",
            " 23  SO2 AQI            436876 non-null  float64\n",
            " 24  CO Units           436876 non-null  object \n",
            " 25  CO Mean            436876 non-null  float64\n",
            " 26  CO 1st Max Value   436876 non-null  float64\n",
            " 27  CO 1st Max Hour    436876 non-null  int64  \n",
            " 28  CO AQI             436876 non-null  float64\n",
            "dtypes: float64(10), int64(10), object(9)\n",
            "memory usage: 100.0+ MB\n"
          ],
          "name": "stdout"
        }
      ]
    },
    {
      "cell_type": "code",
      "metadata": {
        "colab": {
          "base_uri": "https://localhost:8080/",
          "height": 204
        },
        "id": "Pt56_dTWGNlk",
        "outputId": "4c3bc20a-9c13-43ae-8819-0a5c2948e820"
      },
      "source": [
        "#drop columns \n",
        "pollute_df = clean_master_pollute_df.drop(['Unnamed: 0', 'State Code', 'County Code', 'Site Num', 'Address', 'State', 'County', 'NO2 Units', 'NO2 Mean', 'NO2 1st Max Value', 'NO2 1st Max Hour', 'SO2 Units', 'SO2 Mean', 'SO2 1st Max Value', 'SO2 1st Max Hour', 'O3 Units', 'O3 Mean', 'O3 1st Max Value', 'O3 1st Max Hour', 'CO Units', 'CO Mean', 'CO 1st Max Value', 'CO 1st Max Hour'],axis=1)\n",
        "pollute_df.head()"
      ],
      "execution_count": null,
      "outputs": [
        {
          "output_type": "execute_result",
          "data": {
            "text/html": [
              "<div>\n",
              "<style scoped>\n",
              "    .dataframe tbody tr th:only-of-type {\n",
              "        vertical-align: middle;\n",
              "    }\n",
              "\n",
              "    .dataframe tbody tr th {\n",
              "        vertical-align: top;\n",
              "    }\n",
              "\n",
              "    .dataframe thead th {\n",
              "        text-align: right;\n",
              "    }\n",
              "</style>\n",
              "<table border=\"1\" class=\"dataframe\">\n",
              "  <thead>\n",
              "    <tr style=\"text-align: right;\">\n",
              "      <th></th>\n",
              "      <th>City</th>\n",
              "      <th>Date Local</th>\n",
              "      <th>NO2 AQI</th>\n",
              "      <th>O3 AQI</th>\n",
              "      <th>SO2 AQI</th>\n",
              "      <th>CO AQI</th>\n",
              "    </tr>\n",
              "  </thead>\n",
              "  <tbody>\n",
              "    <tr>\n",
              "      <th>1</th>\n",
              "      <td>Phoenix</td>\n",
              "      <td>2000-01-01</td>\n",
              "      <td>46</td>\n",
              "      <td>34</td>\n",
              "      <td>13.0</td>\n",
              "      <td>25.0</td>\n",
              "    </tr>\n",
              "    <tr>\n",
              "      <th>5</th>\n",
              "      <td>Phoenix</td>\n",
              "      <td>2000-01-02</td>\n",
              "      <td>34</td>\n",
              "      <td>27</td>\n",
              "      <td>4.0</td>\n",
              "      <td>26.0</td>\n",
              "    </tr>\n",
              "    <tr>\n",
              "      <th>9</th>\n",
              "      <td>Phoenix</td>\n",
              "      <td>2000-01-03</td>\n",
              "      <td>48</td>\n",
              "      <td>14</td>\n",
              "      <td>16.0</td>\n",
              "      <td>28.0</td>\n",
              "    </tr>\n",
              "    <tr>\n",
              "      <th>13</th>\n",
              "      <td>Phoenix</td>\n",
              "      <td>2000-01-04</td>\n",
              "      <td>72</td>\n",
              "      <td>28</td>\n",
              "      <td>23.0</td>\n",
              "      <td>34.0</td>\n",
              "    </tr>\n",
              "    <tr>\n",
              "      <th>17</th>\n",
              "      <td>Phoenix</td>\n",
              "      <td>2000-01-05</td>\n",
              "      <td>58</td>\n",
              "      <td>10</td>\n",
              "      <td>21.0</td>\n",
              "      <td>42.0</td>\n",
              "    </tr>\n",
              "  </tbody>\n",
              "</table>\n",
              "</div>"
            ],
            "text/plain": [
              "       City  Date Local  NO2 AQI  O3 AQI  SO2 AQI  CO AQI\n",
              "1   Phoenix  2000-01-01       46      34     13.0    25.0\n",
              "5   Phoenix  2000-01-02       34      27      4.0    26.0\n",
              "9   Phoenix  2000-01-03       48      14     16.0    28.0\n",
              "13  Phoenix  2000-01-04       72      28     23.0    34.0\n",
              "17  Phoenix  2000-01-05       58      10     21.0    42.0"
            ]
          },
          "metadata": {
            "tags": []
          },
          "execution_count": 7
        }
      ]
    },
    {
      "cell_type": "code",
      "metadata": {
        "colab": {
          "base_uri": "https://localhost:8080/",
          "height": 204
        },
        "id": "pIvJjVTaGTcb",
        "outputId": "71574011-1257-4ea2-e38e-9fa187ac1943"
      },
      "source": [
        "#add year column\n",
        "pollute_df['year'] = pd.DatetimeIndex(pollute_df['Date Local']).year\n",
        "pollute_df.head()"
      ],
      "execution_count": null,
      "outputs": [
        {
          "output_type": "execute_result",
          "data": {
            "text/html": [
              "<div>\n",
              "<style scoped>\n",
              "    .dataframe tbody tr th:only-of-type {\n",
              "        vertical-align: middle;\n",
              "    }\n",
              "\n",
              "    .dataframe tbody tr th {\n",
              "        vertical-align: top;\n",
              "    }\n",
              "\n",
              "    .dataframe thead th {\n",
              "        text-align: right;\n",
              "    }\n",
              "</style>\n",
              "<table border=\"1\" class=\"dataframe\">\n",
              "  <thead>\n",
              "    <tr style=\"text-align: right;\">\n",
              "      <th></th>\n",
              "      <th>City</th>\n",
              "      <th>Date Local</th>\n",
              "      <th>NO2 AQI</th>\n",
              "      <th>O3 AQI</th>\n",
              "      <th>SO2 AQI</th>\n",
              "      <th>CO AQI</th>\n",
              "      <th>year</th>\n",
              "    </tr>\n",
              "  </thead>\n",
              "  <tbody>\n",
              "    <tr>\n",
              "      <th>1</th>\n",
              "      <td>Phoenix</td>\n",
              "      <td>2000-01-01</td>\n",
              "      <td>46</td>\n",
              "      <td>34</td>\n",
              "      <td>13.0</td>\n",
              "      <td>25.0</td>\n",
              "      <td>2000</td>\n",
              "    </tr>\n",
              "    <tr>\n",
              "      <th>5</th>\n",
              "      <td>Phoenix</td>\n",
              "      <td>2000-01-02</td>\n",
              "      <td>34</td>\n",
              "      <td>27</td>\n",
              "      <td>4.0</td>\n",
              "      <td>26.0</td>\n",
              "      <td>2000</td>\n",
              "    </tr>\n",
              "    <tr>\n",
              "      <th>9</th>\n",
              "      <td>Phoenix</td>\n",
              "      <td>2000-01-03</td>\n",
              "      <td>48</td>\n",
              "      <td>14</td>\n",
              "      <td>16.0</td>\n",
              "      <td>28.0</td>\n",
              "      <td>2000</td>\n",
              "    </tr>\n",
              "    <tr>\n",
              "      <th>13</th>\n",
              "      <td>Phoenix</td>\n",
              "      <td>2000-01-04</td>\n",
              "      <td>72</td>\n",
              "      <td>28</td>\n",
              "      <td>23.0</td>\n",
              "      <td>34.0</td>\n",
              "      <td>2000</td>\n",
              "    </tr>\n",
              "    <tr>\n",
              "      <th>17</th>\n",
              "      <td>Phoenix</td>\n",
              "      <td>2000-01-05</td>\n",
              "      <td>58</td>\n",
              "      <td>10</td>\n",
              "      <td>21.0</td>\n",
              "      <td>42.0</td>\n",
              "      <td>2000</td>\n",
              "    </tr>\n",
              "  </tbody>\n",
              "</table>\n",
              "</div>"
            ],
            "text/plain": [
              "       City  Date Local  NO2 AQI  O3 AQI  SO2 AQI  CO AQI  year\n",
              "1   Phoenix  2000-01-01       46      34     13.0    25.0  2000\n",
              "5   Phoenix  2000-01-02       34      27      4.0    26.0  2000\n",
              "9   Phoenix  2000-01-03       48      14     16.0    28.0  2000\n",
              "13  Phoenix  2000-01-04       72      28     23.0    34.0  2000\n",
              "17  Phoenix  2000-01-05       58      10     21.0    42.0  2000"
            ]
          },
          "metadata": {
            "tags": []
          },
          "execution_count": 8
        }
      ]
    },
    {
      "cell_type": "code",
      "metadata": {
        "colab": {
          "base_uri": "https://localhost:8080/",
          "height": 297
        },
        "id": "4oyOkcw6GW8A",
        "outputId": "e366e7ad-b251-4673-b50d-3f40525ac76a"
      },
      "source": [
        "#group by city - salt lake\n",
        "by_city = pollute_df.groupby('City')\n",
        "sl_group = by_city.get_group('Salt Lake City')\n",
        "sl_group.describe()"
      ],
      "execution_count": null,
      "outputs": [
        {
          "output_type": "execute_result",
          "data": {
            "text/html": [
              "<div>\n",
              "<style scoped>\n",
              "    .dataframe tbody tr th:only-of-type {\n",
              "        vertical-align: middle;\n",
              "    }\n",
              "\n",
              "    .dataframe tbody tr th {\n",
              "        vertical-align: top;\n",
              "    }\n",
              "\n",
              "    .dataframe thead th {\n",
              "        text-align: right;\n",
              "    }\n",
              "</style>\n",
              "<table border=\"1\" class=\"dataframe\">\n",
              "  <thead>\n",
              "    <tr style=\"text-align: right;\">\n",
              "      <th></th>\n",
              "      <th>NO2 AQI</th>\n",
              "      <th>O3 AQI</th>\n",
              "      <th>SO2 AQI</th>\n",
              "      <th>CO AQI</th>\n",
              "      <th>year</th>\n",
              "    </tr>\n",
              "  </thead>\n",
              "  <tbody>\n",
              "    <tr>\n",
              "      <th>count</th>\n",
              "      <td>1645.000000</td>\n",
              "      <td>1645.000000</td>\n",
              "      <td>1645.000000</td>\n",
              "      <td>1645.000000</td>\n",
              "      <td>1645.000000</td>\n",
              "    </tr>\n",
              "    <tr>\n",
              "      <th>mean</th>\n",
              "      <td>29.921581</td>\n",
              "      <td>40.519149</td>\n",
              "      <td>1.477812</td>\n",
              "      <td>5.679027</td>\n",
              "      <td>2012.880243</td>\n",
              "    </tr>\n",
              "    <tr>\n",
              "      <th>std</th>\n",
              "      <td>11.044339</td>\n",
              "      <td>21.687908</td>\n",
              "      <td>2.921150</td>\n",
              "      <td>3.706091</td>\n",
              "      <td>1.415376</td>\n",
              "    </tr>\n",
              "    <tr>\n",
              "      <th>min</th>\n",
              "      <td>2.000000</td>\n",
              "      <td>0.000000</td>\n",
              "      <td>0.000000</td>\n",
              "      <td>1.000000</td>\n",
              "      <td>2011.000000</td>\n",
              "    </tr>\n",
              "    <tr>\n",
              "      <th>25%</th>\n",
              "      <td>22.000000</td>\n",
              "      <td>28.000000</td>\n",
              "      <td>0.000000</td>\n",
              "      <td>3.000000</td>\n",
              "      <td>2012.000000</td>\n",
              "    </tr>\n",
              "    <tr>\n",
              "      <th>50%</th>\n",
              "      <td>29.000000</td>\n",
              "      <td>38.000000</td>\n",
              "      <td>1.000000</td>\n",
              "      <td>5.000000</td>\n",
              "      <td>2013.000000</td>\n",
              "    </tr>\n",
              "    <tr>\n",
              "      <th>75%</th>\n",
              "      <td>38.000000</td>\n",
              "      <td>47.000000</td>\n",
              "      <td>1.000000</td>\n",
              "      <td>7.000000</td>\n",
              "      <td>2014.000000</td>\n",
              "    </tr>\n",
              "    <tr>\n",
              "      <th>max</th>\n",
              "      <td>74.000000</td>\n",
              "      <td>147.000000</td>\n",
              "      <td>64.000000</td>\n",
              "      <td>31.000000</td>\n",
              "      <td>2016.000000</td>\n",
              "    </tr>\n",
              "  </tbody>\n",
              "</table>\n",
              "</div>"
            ],
            "text/plain": [
              "           NO2 AQI       O3 AQI      SO2 AQI       CO AQI         year\n",
              "count  1645.000000  1645.000000  1645.000000  1645.000000  1645.000000\n",
              "mean     29.921581    40.519149     1.477812     5.679027  2012.880243\n",
              "std      11.044339    21.687908     2.921150     3.706091     1.415376\n",
              "min       2.000000     0.000000     0.000000     1.000000  2011.000000\n",
              "25%      22.000000    28.000000     0.000000     3.000000  2012.000000\n",
              "50%      29.000000    38.000000     1.000000     5.000000  2013.000000\n",
              "75%      38.000000    47.000000     1.000000     7.000000  2014.000000\n",
              "max      74.000000   147.000000    64.000000    31.000000  2016.000000"
            ]
          },
          "metadata": {
            "tags": []
          },
          "execution_count": 9
        }
      ]
    },
    {
      "cell_type": "code",
      "metadata": {
        "colab": {
          "base_uri": "https://localhost:8080/"
        },
        "id": "8_kY7MtkIAnx",
        "outputId": "125f5a38-4a9a-4239-ce14-6ea36f40ffcc"
      },
      "source": [
        "#show sample ditributions by year taken\n",
        "sl_year_counts = sl_group['year'].value_counts()\n",
        "sl_year_counts"
      ],
      "execution_count": null,
      "outputs": [
        {
          "output_type": "execute_result",
          "data": {
            "text/plain": [
              "2011    361\n",
              "2012    358\n",
              "2013    338\n",
              "2014    314\n",
              "2015    253\n",
              "2016     21\n",
              "Name: year, dtype: int64"
            ]
          },
          "metadata": {
            "tags": []
          },
          "execution_count": 10
        }
      ]
    },
    {
      "cell_type": "code",
      "metadata": {
        "colab": {
          "base_uri": "https://localhost:8080/",
          "height": 297
        },
        "id": "R1rYfq2AIFla",
        "outputId": "43d3dfcc-aa3e-40c9-c037-942e1d1e6c68"
      },
      "source": [
        "#group by city - birmingham\n",
        "by_city = pollute_df.groupby('City')\n",
        "birm_group = by_city.get_group('Birmingham')\n",
        "birm_group.describe()"
      ],
      "execution_count": null,
      "outputs": [
        {
          "output_type": "execute_result",
          "data": {
            "text/html": [
              "<div>\n",
              "<style scoped>\n",
              "    .dataframe tbody tr th:only-of-type {\n",
              "        vertical-align: middle;\n",
              "    }\n",
              "\n",
              "    .dataframe tbody tr th {\n",
              "        vertical-align: top;\n",
              "    }\n",
              "\n",
              "    .dataframe thead th {\n",
              "        text-align: right;\n",
              "    }\n",
              "</style>\n",
              "<table border=\"1\" class=\"dataframe\">\n",
              "  <thead>\n",
              "    <tr style=\"text-align: right;\">\n",
              "      <th></th>\n",
              "      <th>NO2 AQI</th>\n",
              "      <th>O3 AQI</th>\n",
              "      <th>SO2 AQI</th>\n",
              "      <th>CO AQI</th>\n",
              "      <th>year</th>\n",
              "    </tr>\n",
              "  </thead>\n",
              "  <tbody>\n",
              "    <tr>\n",
              "      <th>count</th>\n",
              "      <td>782.00000</td>\n",
              "      <td>782.000000</td>\n",
              "      <td>782.000000</td>\n",
              "      <td>782.000000</td>\n",
              "      <td>782.000000</td>\n",
              "    </tr>\n",
              "    <tr>\n",
              "      <th>mean</th>\n",
              "      <td>21.22890</td>\n",
              "      <td>36.831202</td>\n",
              "      <td>7.005115</td>\n",
              "      <td>3.851662</td>\n",
              "      <td>2014.725064</td>\n",
              "    </tr>\n",
              "    <tr>\n",
              "      <th>std</th>\n",
              "      <td>9.27003</td>\n",
              "      <td>14.942987</td>\n",
              "      <td>10.721237</td>\n",
              "      <td>2.212985</td>\n",
              "      <td>0.812742</td>\n",
              "    </tr>\n",
              "    <tr>\n",
              "      <th>min</th>\n",
              "      <td>1.00000</td>\n",
              "      <td>0.000000</td>\n",
              "      <td>0.000000</td>\n",
              "      <td>1.000000</td>\n",
              "      <td>2013.000000</td>\n",
              "    </tr>\n",
              "    <tr>\n",
              "      <th>25%</th>\n",
              "      <td>14.00000</td>\n",
              "      <td>28.000000</td>\n",
              "      <td>1.000000</td>\n",
              "      <td>2.000000</td>\n",
              "      <td>2014.000000</td>\n",
              "    </tr>\n",
              "    <tr>\n",
              "      <th>50%</th>\n",
              "      <td>21.50000</td>\n",
              "      <td>35.000000</td>\n",
              "      <td>3.000000</td>\n",
              "      <td>3.000000</td>\n",
              "      <td>2015.000000</td>\n",
              "    </tr>\n",
              "    <tr>\n",
              "      <th>75%</th>\n",
              "      <td>28.00000</td>\n",
              "      <td>43.000000</td>\n",
              "      <td>9.000000</td>\n",
              "      <td>6.000000</td>\n",
              "      <td>2015.000000</td>\n",
              "    </tr>\n",
              "    <tr>\n",
              "      <th>max</th>\n",
              "      <td>82.00000</td>\n",
              "      <td>147.000000</td>\n",
              "      <td>97.000000</td>\n",
              "      <td>20.000000</td>\n",
              "      <td>2016.000000</td>\n",
              "    </tr>\n",
              "  </tbody>\n",
              "</table>\n",
              "</div>"
            ],
            "text/plain": [
              "         NO2 AQI      O3 AQI     SO2 AQI      CO AQI         year\n",
              "count  782.00000  782.000000  782.000000  782.000000   782.000000\n",
              "mean    21.22890   36.831202    7.005115    3.851662  2014.725064\n",
              "std      9.27003   14.942987   10.721237    2.212985     0.812742\n",
              "min      1.00000    0.000000    0.000000    1.000000  2013.000000\n",
              "25%     14.00000   28.000000    1.000000    2.000000  2014.000000\n",
              "50%     21.50000   35.000000    3.000000    3.000000  2015.000000\n",
              "75%     28.00000   43.000000    9.000000    6.000000  2015.000000\n",
              "max     82.00000  147.000000   97.000000   20.000000  2016.000000"
            ]
          },
          "metadata": {
            "tags": []
          },
          "execution_count": 11
        }
      ]
    },
    {
      "cell_type": "code",
      "metadata": {
        "colab": {
          "base_uri": "https://localhost:8080/"
        },
        "id": "g-0SQIzUIJJP",
        "outputId": "9e42dad2-68bb-4a6a-c4bf-eea895783db2"
      },
      "source": [
        "#show sample ditributions by year taken\n",
        "birm_year_counts = birm_group['year'].value_counts()\n",
        "birm_year_counts"
      ],
      "execution_count": null,
      "outputs": [
        {
          "output_type": "execute_result",
          "data": {
            "text/plain": [
              "2014    302\n",
              "2015    300\n",
              "2016    149\n",
              "2013     31\n",
              "Name: year, dtype: int64"
            ]
          },
          "metadata": {
            "tags": []
          },
          "execution_count": 12
        }
      ]
    },
    {
      "cell_type": "code",
      "metadata": {
        "colab": {
          "base_uri": "https://localhost:8080/",
          "height": 297
        },
        "id": "ZvRHrg9HINYr",
        "outputId": "83d50a3b-a107-451c-d7c0-3a5069990467"
      },
      "source": [
        "#group by city - oklahoma city\n",
        "by_city = pollute_df.groupby('City')\n",
        "ok_group = by_city.get_group('Oklahoma City')\n",
        "ok_group.describe()"
      ],
      "execution_count": null,
      "outputs": [
        {
          "output_type": "execute_result",
          "data": {
            "text/html": [
              "<div>\n",
              "<style scoped>\n",
              "    .dataframe tbody tr th:only-of-type {\n",
              "        vertical-align: middle;\n",
              "    }\n",
              "\n",
              "    .dataframe tbody tr th {\n",
              "        vertical-align: top;\n",
              "    }\n",
              "\n",
              "    .dataframe thead th {\n",
              "        text-align: right;\n",
              "    }\n",
              "</style>\n",
              "<table border=\"1\" class=\"dataframe\">\n",
              "  <thead>\n",
              "    <tr style=\"text-align: right;\">\n",
              "      <th></th>\n",
              "      <th>NO2 AQI</th>\n",
              "      <th>O3 AQI</th>\n",
              "      <th>SO2 AQI</th>\n",
              "      <th>CO AQI</th>\n",
              "      <th>year</th>\n",
              "    </tr>\n",
              "  </thead>\n",
              "  <tbody>\n",
              "    <tr>\n",
              "      <th>count</th>\n",
              "      <td>1506.000000</td>\n",
              "      <td>1506.000000</td>\n",
              "      <td>1506.000000</td>\n",
              "      <td>1506.000000</td>\n",
              "      <td>1506.000000</td>\n",
              "    </tr>\n",
              "    <tr>\n",
              "      <th>mean</th>\n",
              "      <td>13.749668</td>\n",
              "      <td>43.861222</td>\n",
              "      <td>1.004648</td>\n",
              "      <td>2.387118</td>\n",
              "      <td>2012.693227</td>\n",
              "    </tr>\n",
              "    <tr>\n",
              "      <th>std</th>\n",
              "      <td>9.129363</td>\n",
              "      <td>20.905959</td>\n",
              "      <td>1.415849</td>\n",
              "      <td>1.876469</td>\n",
              "      <td>1.223326</td>\n",
              "    </tr>\n",
              "    <tr>\n",
              "      <th>min</th>\n",
              "      <td>0.000000</td>\n",
              "      <td>5.000000</td>\n",
              "      <td>0.000000</td>\n",
              "      <td>0.000000</td>\n",
              "      <td>2011.000000</td>\n",
              "    </tr>\n",
              "    <tr>\n",
              "      <th>25%</th>\n",
              "      <td>7.000000</td>\n",
              "      <td>31.000000</td>\n",
              "      <td>0.000000</td>\n",
              "      <td>1.000000</td>\n",
              "      <td>2012.000000</td>\n",
              "    </tr>\n",
              "    <tr>\n",
              "      <th>50%</th>\n",
              "      <td>10.000000</td>\n",
              "      <td>39.000000</td>\n",
              "      <td>1.000000</td>\n",
              "      <td>2.000000</td>\n",
              "      <td>2013.000000</td>\n",
              "    </tr>\n",
              "    <tr>\n",
              "      <th>75%</th>\n",
              "      <td>20.000000</td>\n",
              "      <td>48.000000</td>\n",
              "      <td>1.000000</td>\n",
              "      <td>3.000000</td>\n",
              "      <td>2014.000000</td>\n",
              "    </tr>\n",
              "    <tr>\n",
              "      <th>max</th>\n",
              "      <td>52.000000</td>\n",
              "      <td>147.000000</td>\n",
              "      <td>10.000000</td>\n",
              "      <td>23.000000</td>\n",
              "      <td>2015.000000</td>\n",
              "    </tr>\n",
              "  </tbody>\n",
              "</table>\n",
              "</div>"
            ],
            "text/plain": [
              "           NO2 AQI       O3 AQI      SO2 AQI       CO AQI         year\n",
              "count  1506.000000  1506.000000  1506.000000  1506.000000  1506.000000\n",
              "mean     13.749668    43.861222     1.004648     2.387118  2012.693227\n",
              "std       9.129363    20.905959     1.415849     1.876469     1.223326\n",
              "min       0.000000     5.000000     0.000000     0.000000  2011.000000\n",
              "25%       7.000000    31.000000     0.000000     1.000000  2012.000000\n",
              "50%      10.000000    39.000000     1.000000     2.000000  2013.000000\n",
              "75%      20.000000    48.000000     1.000000     3.000000  2014.000000\n",
              "max      52.000000   147.000000    10.000000    23.000000  2015.000000"
            ]
          },
          "metadata": {
            "tags": []
          },
          "execution_count": 13
        }
      ]
    },
    {
      "cell_type": "code",
      "metadata": {
        "colab": {
          "base_uri": "https://localhost:8080/"
        },
        "id": "IQkZXXtyISCR",
        "outputId": "cbd17719-dd98-4820-a792-5e8e36c244c3"
      },
      "source": [
        "#show sample ditributions by year taken\n",
        "ok_year_counts = ok_group['year'].value_counts()\n",
        "ok_year_counts"
      ],
      "execution_count": null,
      "outputs": [
        {
          "output_type": "execute_result",
          "data": {
            "text/plain": [
              "2014    363\n",
              "2013    363\n",
              "2012    363\n",
              "2011    324\n",
              "2015     93\n",
              "Name: year, dtype: int64"
            ]
          },
          "metadata": {
            "tags": []
          },
          "execution_count": 14
        }
      ]
    },
    {
      "cell_type": "code",
      "metadata": {
        "colab": {
          "base_uri": "https://localhost:8080/",
          "height": 297
        },
        "id": "ay0mEpiwIVU2",
        "outputId": "90370778-536f-4844-ccfd-d9661c67fb4a"
      },
      "source": [
        "#group by city - raleigh\n",
        "by_city = pollute_df.groupby('City')\n",
        "ral_group = by_city.get_group('Raleigh')\n",
        "ral_group.describe()"
      ],
      "execution_count": null,
      "outputs": [
        {
          "output_type": "execute_result",
          "data": {
            "text/html": [
              "<div>\n",
              "<style scoped>\n",
              "    .dataframe tbody tr th:only-of-type {\n",
              "        vertical-align: middle;\n",
              "    }\n",
              "\n",
              "    .dataframe tbody tr th {\n",
              "        vertical-align: top;\n",
              "    }\n",
              "\n",
              "    .dataframe thead th {\n",
              "        text-align: right;\n",
              "    }\n",
              "</style>\n",
              "<table border=\"1\" class=\"dataframe\">\n",
              "  <thead>\n",
              "    <tr style=\"text-align: right;\">\n",
              "      <th></th>\n",
              "      <th>NO2 AQI</th>\n",
              "      <th>O3 AQI</th>\n",
              "      <th>SO2 AQI</th>\n",
              "      <th>CO AQI</th>\n",
              "      <th>year</th>\n",
              "    </tr>\n",
              "  </thead>\n",
              "  <tbody>\n",
              "    <tr>\n",
              "      <th>count</th>\n",
              "      <td>795.000000</td>\n",
              "      <td>795.000000</td>\n",
              "      <td>795.000000</td>\n",
              "      <td>795.000000</td>\n",
              "      <td>795.000000</td>\n",
              "    </tr>\n",
              "    <tr>\n",
              "      <th>mean</th>\n",
              "      <td>13.945912</td>\n",
              "      <td>36.714465</td>\n",
              "      <td>0.781132</td>\n",
              "      <td>4.174843</td>\n",
              "      <td>2014.677987</td>\n",
              "    </tr>\n",
              "    <tr>\n",
              "      <th>std</th>\n",
              "      <td>8.855165</td>\n",
              "      <td>12.432902</td>\n",
              "      <td>1.535441</td>\n",
              "      <td>2.349419</td>\n",
              "      <td>0.669189</td>\n",
              "    </tr>\n",
              "    <tr>\n",
              "      <th>min</th>\n",
              "      <td>0.000000</td>\n",
              "      <td>6.000000</td>\n",
              "      <td>0.000000</td>\n",
              "      <td>1.000000</td>\n",
              "      <td>2014.000000</td>\n",
              "    </tr>\n",
              "    <tr>\n",
              "      <th>25%</th>\n",
              "      <td>7.000000</td>\n",
              "      <td>29.000000</td>\n",
              "      <td>0.000000</td>\n",
              "      <td>3.000000</td>\n",
              "      <td>2014.000000</td>\n",
              "    </tr>\n",
              "    <tr>\n",
              "      <th>50%</th>\n",
              "      <td>12.000000</td>\n",
              "      <td>35.000000</td>\n",
              "      <td>0.000000</td>\n",
              "      <td>3.000000</td>\n",
              "      <td>2015.000000</td>\n",
              "    </tr>\n",
              "    <tr>\n",
              "      <th>75%</th>\n",
              "      <td>20.000000</td>\n",
              "      <td>44.000000</td>\n",
              "      <td>1.000000</td>\n",
              "      <td>5.000000</td>\n",
              "      <td>2015.000000</td>\n",
              "    </tr>\n",
              "    <tr>\n",
              "      <th>max</th>\n",
              "      <td>42.000000</td>\n",
              "      <td>101.000000</td>\n",
              "      <td>13.000000</td>\n",
              "      <td>15.000000</td>\n",
              "      <td>2016.000000</td>\n",
              "    </tr>\n",
              "  </tbody>\n",
              "</table>\n",
              "</div>"
            ],
            "text/plain": [
              "          NO2 AQI      O3 AQI     SO2 AQI      CO AQI         year\n",
              "count  795.000000  795.000000  795.000000  795.000000   795.000000\n",
              "mean    13.945912   36.714465    0.781132    4.174843  2014.677987\n",
              "std      8.855165   12.432902    1.535441    2.349419     0.669189\n",
              "min      0.000000    6.000000    0.000000    1.000000  2014.000000\n",
              "25%      7.000000   29.000000    0.000000    3.000000  2014.000000\n",
              "50%     12.000000   35.000000    0.000000    3.000000  2015.000000\n",
              "75%     20.000000   44.000000    1.000000    5.000000  2015.000000\n",
              "max     42.000000  101.000000   13.000000   15.000000  2016.000000"
            ]
          },
          "metadata": {
            "tags": []
          },
          "execution_count": 15
        }
      ]
    },
    {
      "cell_type": "code",
      "metadata": {
        "colab": {
          "base_uri": "https://localhost:8080/"
        },
        "id": "9VBvB88XIZCp",
        "outputId": "54b2b903-6ea8-4da3-f76a-96ac2fd95b57"
      },
      "source": [
        "#show sample ditributions by year taken\n",
        "ral_year_counts = ral_group['year'].value_counts()\n",
        "ral_year_counts"
      ],
      "execution_count": null,
      "outputs": [
        {
          "output_type": "execute_result",
          "data": {
            "text/plain": [
              "2015    357\n",
              "2014    347\n",
              "2016     91\n",
              "Name: year, dtype: int64"
            ]
          },
          "metadata": {
            "tags": []
          },
          "execution_count": 16
        }
      ]
    },
    {
      "cell_type": "code",
      "metadata": {
        "colab": {
          "base_uri": "https://localhost:8080/",
          "height": 297
        },
        "id": "DHgCmWhCIdAQ",
        "outputId": "e1d7671a-586b-4aac-8642-b3ebfe4ec7a1"
      },
      "source": [
        "#group by city - louisville\n",
        "by_city = pollute_df.groupby('City')\n",
        "lou_group = by_city.get_group('Louisville')\n",
        "lou_group.describe()"
      ],
      "execution_count": null,
      "outputs": [
        {
          "output_type": "execute_result",
          "data": {
            "text/html": [
              "<div>\n",
              "<style scoped>\n",
              "    .dataframe tbody tr th:only-of-type {\n",
              "        vertical-align: middle;\n",
              "    }\n",
              "\n",
              "    .dataframe tbody tr th {\n",
              "        vertical-align: top;\n",
              "    }\n",
              "\n",
              "    .dataframe thead th {\n",
              "        text-align: right;\n",
              "    }\n",
              "</style>\n",
              "<table border=\"1\" class=\"dataframe\">\n",
              "  <thead>\n",
              "    <tr style=\"text-align: right;\">\n",
              "      <th></th>\n",
              "      <th>NO2 AQI</th>\n",
              "      <th>O3 AQI</th>\n",
              "      <th>SO2 AQI</th>\n",
              "      <th>CO AQI</th>\n",
              "      <th>year</th>\n",
              "    </tr>\n",
              "  </thead>\n",
              "  <tbody>\n",
              "    <tr>\n",
              "      <th>count</th>\n",
              "      <td>972.000000</td>\n",
              "      <td>972.000000</td>\n",
              "      <td>972.000000</td>\n",
              "      <td>972.000000</td>\n",
              "      <td>972.000000</td>\n",
              "    </tr>\n",
              "    <tr>\n",
              "      <th>mean</th>\n",
              "      <td>23.307613</td>\n",
              "      <td>38.618313</td>\n",
              "      <td>17.870370</td>\n",
              "      <td>5.358025</td>\n",
              "      <td>2006.865226</td>\n",
              "    </tr>\n",
              "    <tr>\n",
              "      <th>std</th>\n",
              "      <td>9.628262</td>\n",
              "      <td>21.136051</td>\n",
              "      <td>24.244032</td>\n",
              "      <td>3.636893</td>\n",
              "      <td>6.738254</td>\n",
              "    </tr>\n",
              "    <tr>\n",
              "      <th>min</th>\n",
              "      <td>0.000000</td>\n",
              "      <td>3.000000</td>\n",
              "      <td>0.000000</td>\n",
              "      <td>0.000000</td>\n",
              "      <td>2000.000000</td>\n",
              "    </tr>\n",
              "    <tr>\n",
              "      <th>25%</th>\n",
              "      <td>17.000000</td>\n",
              "      <td>25.000000</td>\n",
              "      <td>3.000000</td>\n",
              "      <td>3.000000</td>\n",
              "      <td>2001.000000</td>\n",
              "    </tr>\n",
              "    <tr>\n",
              "      <th>50%</th>\n",
              "      <td>24.000000</td>\n",
              "      <td>35.000000</td>\n",
              "      <td>7.000000</td>\n",
              "      <td>5.000000</td>\n",
              "      <td>2002.000000</td>\n",
              "    </tr>\n",
              "    <tr>\n",
              "      <th>75%</th>\n",
              "      <td>29.000000</td>\n",
              "      <td>45.000000</td>\n",
              "      <td>24.000000</td>\n",
              "      <td>7.000000</td>\n",
              "      <td>2014.000000</td>\n",
              "    </tr>\n",
              "    <tr>\n",
              "      <th>max</th>\n",
              "      <td>58.000000</td>\n",
              "      <td>174.000000</td>\n",
              "      <td>137.000000</td>\n",
              "      <td>20.000000</td>\n",
              "      <td>2015.000000</td>\n",
              "    </tr>\n",
              "  </tbody>\n",
              "</table>\n",
              "</div>"
            ],
            "text/plain": [
              "          NO2 AQI      O3 AQI     SO2 AQI      CO AQI         year\n",
              "count  972.000000  972.000000  972.000000  972.000000   972.000000\n",
              "mean    23.307613   38.618313   17.870370    5.358025  2006.865226\n",
              "std      9.628262   21.136051   24.244032    3.636893     6.738254\n",
              "min      0.000000    3.000000    0.000000    0.000000  2000.000000\n",
              "25%     17.000000   25.000000    3.000000    3.000000  2001.000000\n",
              "50%     24.000000   35.000000    7.000000    5.000000  2002.000000\n",
              "75%     29.000000   45.000000   24.000000    7.000000  2014.000000\n",
              "max     58.000000  174.000000  137.000000   20.000000  2015.000000"
            ]
          },
          "metadata": {
            "tags": []
          },
          "execution_count": 17
        }
      ]
    },
    {
      "cell_type": "code",
      "metadata": {
        "colab": {
          "base_uri": "https://localhost:8080/"
        },
        "id": "bvY-_7TIIgns",
        "outputId": "7e5c7069-a82b-48b0-dac0-1d50f231c709"
      },
      "source": [
        "#show sample ditributions by year taken\n",
        "lou_year_counts = lou_group['year'].value_counts()\n",
        "lou_year_counts"
      ],
      "execution_count": null,
      "outputs": [
        {
          "output_type": "execute_result",
          "data": {
            "text/plain": [
              "2000    223\n",
              "2015    193\n",
              "2001    192\n",
              "2014    163\n",
              "2002    119\n",
              "2013     82\n",
              "Name: year, dtype: int64"
            ]
          },
          "metadata": {
            "tags": []
          },
          "execution_count": 18
        }
      ]
    },
    {
      "cell_type": "code",
      "metadata": {
        "id": "3cHiQ9EPIlnV"
      },
      "source": [
        "#drop years for louisville group that don't match the sample date range of the other cities \n",
        "lou_group = lou_group[lou_group.year > 2009]"
      ],
      "execution_count": null,
      "outputs": []
    },
    {
      "cell_type": "code",
      "metadata": {
        "id": "pezqrhD1Iq9x"
      },
      "source": [
        "lou_year_counts = lou_group['year'].value_counts()\n",
        "lou_year_counts"
      ],
      "execution_count": null,
      "outputs": []
    },
    {
      "cell_type": "markdown",
      "metadata": {
        "id": "f3wqOQHlGkkr"
      },
      "source": [
        "DATA EXPLORATION CONTINUED\n",
        "\n",
        "\n",
        "---\n",
        "\n",
        "I grouped together the comparison cities to compare against Salt Lake. "
      ]
    },
    {
      "cell_type": "code",
      "metadata": {
        "id": "WstPDsW9ItlQ"
      },
      "source": [
        "#group together the comparison cities to find mean values to compare against salt lake\n",
        "comp_group_concat = pd.concat([\n",
        "    lou_group.assign(dataset='lou_group'), \n",
        "    birm_group.assign(dataset='birm_group'), \n",
        "    ral_group.assign(dataset='ral_group'), \n",
        "    ok_group.assign(dataset='ok_group')])"
      ],
      "execution_count": null,
      "outputs": []
    },
    {
      "cell_type": "code",
      "metadata": {
        "colab": {
          "base_uri": "https://localhost:8080/"
        },
        "id": "tNz3sXN8Iyoa",
        "outputId": "b754cdbb-fad6-4f96-9313-1e6fc8eb6c3e"
      },
      "source": [
        "#check for cities in comp_group\n",
        "comp_group_cities = comp_group_concat['City'].value_counts()\n",
        "comp_group_cities"
      ],
      "execution_count": null,
      "outputs": [
        {
          "output_type": "execute_result",
          "data": {
            "text/plain": [
              "Oklahoma City    1506\n",
              "Raleigh           795\n",
              "Birmingham        782\n",
              "Louisville        438\n",
              "Name: City, dtype: int64"
            ]
          },
          "metadata": {
            "tags": []
          },
          "execution_count": 21
        }
      ]
    },
    {
      "cell_type": "code",
      "metadata": {
        "colab": {
          "base_uri": "https://localhost:8080/",
          "height": 297
        },
        "id": "LxDLsV02Iz5x",
        "outputId": "efb61be4-5181-48ea-926f-7933e4912e19"
      },
      "source": [
        "comp_group_concat.describe()"
      ],
      "execution_count": null,
      "outputs": [
        {
          "output_type": "execute_result",
          "data": {
            "text/html": [
              "<div>\n",
              "<style scoped>\n",
              "    .dataframe tbody tr th:only-of-type {\n",
              "        vertical-align: middle;\n",
              "    }\n",
              "\n",
              "    .dataframe tbody tr th {\n",
              "        vertical-align: top;\n",
              "    }\n",
              "\n",
              "    .dataframe thead th {\n",
              "        text-align: right;\n",
              "    }\n",
              "</style>\n",
              "<table border=\"1\" class=\"dataframe\">\n",
              "  <thead>\n",
              "    <tr style=\"text-align: right;\">\n",
              "      <th></th>\n",
              "      <th>NO2 AQI</th>\n",
              "      <th>O3 AQI</th>\n",
              "      <th>SO2 AQI</th>\n",
              "      <th>CO AQI</th>\n",
              "      <th>year</th>\n",
              "    </tr>\n",
              "  </thead>\n",
              "  <tbody>\n",
              "    <tr>\n",
              "      <th>count</th>\n",
              "      <td>3521.000000</td>\n",
              "      <td>3521.000000</td>\n",
              "      <td>3521.000000</td>\n",
              "      <td>3521.000000</td>\n",
              "      <td>3521.000000</td>\n",
              "    </tr>\n",
              "    <tr>\n",
              "      <th>mean</th>\n",
              "      <td>16.385686</td>\n",
              "      <td>39.300483</td>\n",
              "      <td>2.813121</td>\n",
              "      <td>3.368929</td>\n",
              "      <td>2013.786708</td>\n",
              "    </tr>\n",
              "    <tr>\n",
              "      <th>std</th>\n",
              "      <td>9.838212</td>\n",
              "      <td>18.191001</td>\n",
              "      <td>6.394890</td>\n",
              "      <td>2.302035</td>\n",
              "      <td>1.367938</td>\n",
              "    </tr>\n",
              "    <tr>\n",
              "      <th>min</th>\n",
              "      <td>0.000000</td>\n",
              "      <td>0.000000</td>\n",
              "      <td>0.000000</td>\n",
              "      <td>0.000000</td>\n",
              "      <td>2011.000000</td>\n",
              "    </tr>\n",
              "    <tr>\n",
              "      <th>25%</th>\n",
              "      <td>8.000000</td>\n",
              "      <td>28.000000</td>\n",
              "      <td>0.000000</td>\n",
              "      <td>2.000000</td>\n",
              "      <td>2013.000000</td>\n",
              "    </tr>\n",
              "    <tr>\n",
              "      <th>50%</th>\n",
              "      <td>14.000000</td>\n",
              "      <td>36.000000</td>\n",
              "      <td>1.000000</td>\n",
              "      <td>3.000000</td>\n",
              "      <td>2014.000000</td>\n",
              "    </tr>\n",
              "    <tr>\n",
              "      <th>75%</th>\n",
              "      <td>24.000000</td>\n",
              "      <td>45.000000</td>\n",
              "      <td>3.000000</td>\n",
              "      <td>5.000000</td>\n",
              "      <td>2015.000000</td>\n",
              "    </tr>\n",
              "    <tr>\n",
              "      <th>max</th>\n",
              "      <td>82.000000</td>\n",
              "      <td>174.000000</td>\n",
              "      <td>97.000000</td>\n",
              "      <td>23.000000</td>\n",
              "      <td>2016.000000</td>\n",
              "    </tr>\n",
              "  </tbody>\n",
              "</table>\n",
              "</div>"
            ],
            "text/plain": [
              "           NO2 AQI       O3 AQI      SO2 AQI       CO AQI         year\n",
              "count  3521.000000  3521.000000  3521.000000  3521.000000  3521.000000\n",
              "mean     16.385686    39.300483     2.813121     3.368929  2013.786708\n",
              "std       9.838212    18.191001     6.394890     2.302035     1.367938\n",
              "min       0.000000     0.000000     0.000000     0.000000  2011.000000\n",
              "25%       8.000000    28.000000     0.000000     2.000000  2013.000000\n",
              "50%      14.000000    36.000000     1.000000     3.000000  2014.000000\n",
              "75%      24.000000    45.000000     3.000000     5.000000  2015.000000\n",
              "max      82.000000   174.000000    97.000000    23.000000  2016.000000"
            ]
          },
          "metadata": {
            "tags": []
          },
          "execution_count": 22
        }
      ]
    },
    {
      "cell_type": "code",
      "metadata": {
        "colab": {
          "base_uri": "https://localhost:8080/",
          "height": 312
        },
        "id": "qCIT6TYcI24l",
        "outputId": "89e2640d-38c0-4a21-d713-6446585056ae"
      },
      "source": [
        "#plot the distribution of NO2 AQI for the comp group\n",
        "ax1 = sns.distplot(comp_group_concat['NO2 AQI'], color='orange')\n",
        "\n",
        "#plot the distribution of NO2 AQI for salt lake city\n",
        "ax1 = sns.distplot(sl_group['NO2 AQI'], color='skyblue')\n",
        "\n",
        "ax1.set_title('Distribution of NO2 AQI for Salt Lake City and Comp Cities')"
      ],
      "execution_count": null,
      "outputs": [
        {
          "output_type": "execute_result",
          "data": {
            "text/plain": [
              "Text(0.5, 1.0, 'Distribution of NO2 AQI for Salt Lake City and Comp Cities')"
            ]
          },
          "metadata": {
            "tags": []
          },
          "execution_count": 23
        },
        {
          "output_type": "display_data",
          "data": {
            "image/png": "[encoded data removed]",
            "text/plain": [
              "<Figure size 432x288 with 1 Axes>"
            ]
          },
          "metadata": {
            "tags": []
          }
        }
      ]
    },
    {
      "cell_type": "markdown",
      "metadata": {
        "id": "ySyZFrS09ts0"
      },
      "source": [
        "AX1 Interpretation\n",
        "\n",
        "\n",
        "---\n",
        "\n",
        "\n",
        "You can see the NO2 AQI for Salt Lake City (skyblue), is sampling higher than the comparison group. The data for both groups follows a normal distribution. "
      ]
    },
    {
      "cell_type": "code",
      "metadata": {
        "colab": {
          "base_uri": "https://localhost:8080/",
          "height": 312
        },
        "id": "wtvcar2hI7ny",
        "outputId": "cba92dff-bf96-4b19-daec-c97cc03ad97f"
      },
      "source": [
        "#plot the distribution of O3 AQI for the comp group\n",
        "ax2 = sns.distplot(comp_group_concat['O3 AQI'], color='orange')\n",
        "\n",
        "#plot the distribution of O3 AQI for salt lake city\n",
        "ax2 = sns.distplot(sl_group['O3 AQI'], color='skyblue')\n",
        "\n",
        "ax2.set_title('Distribution of O3 AQI for Salt Lake City and Comp Cities')"
      ],
      "execution_count": null,
      "outputs": [
        {
          "output_type": "execute_result",
          "data": {
            "text/plain": [
              "Text(0.5, 1.0, 'Distribution of O3 AQI for Salt Lake City and Comp Cities')"
            ]
          },
          "metadata": {
            "tags": []
          },
          "execution_count": 24
        },
        {
          "output_type": "display_data",
          "data": {
            "image/png": "[encoded data removed]",
            "text/plain": [
              "<Figure size 432x288 with 1 Axes>"
            ]
          },
          "metadata": {
            "tags": []
          }
        }
      ]
    },
    {
      "cell_type": "markdown",
      "metadata": {
        "id": "m_28xlx6-1tM"
      },
      "source": [
        "AX2 Interpretation\n",
        "\n",
        "\n",
        "---\n",
        "\n",
        "The O3 AQI for both Salt Lake City and the comparison group are normally distributed."
      ]
    },
    {
      "cell_type": "code",
      "metadata": {
        "colab": {
          "base_uri": "https://localhost:8080/",
          "height": 312
        },
        "id": "7IQ21WR5I_oH",
        "outputId": "c2f63b59-ab93-46b6-d8a5-cc4e60f495c7"
      },
      "source": [
        "#plot the distribution of SO2 AQI for the comp group\n",
        "ax3 = sns.distplot(comp_group_concat['SO2 AQI'], color='orange')\n",
        "\n",
        "#plot the distribution of SO2 AQI for salt lake\n",
        "ax3 = sns.distplot(sl_group['SO2 AQI'], color='skyblue')\n",
        "\n",
        "ax3.set_title('Distribution of SO2 AQI for Salt Lake City and Comp Cities')"
      ],
      "execution_count": null,
      "outputs": [
        {
          "output_type": "execute_result",
          "data": {
            "text/plain": [
              "Text(0.5, 1.0, 'Distribution of SO2 AQI for Salt Lake City and Comp Cities')"
            ]
          },
          "metadata": {
            "tags": []
          },
          "execution_count": 25
        },
        {
          "output_type": "display_data",
          "data": {
            "image/png": "[encoded data removed]",
            "text/plain": [
              "<Figure size 432x288 with 1 Axes>"
            ]
          },
          "metadata": {
            "tags": []
          }
        }
      ]
    },
    {
      "cell_type": "markdown",
      "metadata": {
        "id": "hwiZKlciAZfr"
      },
      "source": [
        "AX3 Interpretation\n",
        "\n",
        "\n",
        "---\n",
        "\n",
        "The SO2 AQI for both Salt Lake City and the comparison group are normally distributed."
      ]
    },
    {
      "cell_type": "code",
      "metadata": {
        "colab": {
          "base_uri": "https://localhost:8080/",
          "height": 312
        },
        "id": "BGEyQmqHJDcr",
        "outputId": "91f45b3e-6d72-440f-8e35-38ffa5d1eae9"
      },
      "source": [
        "#plot the distribution of CO AQI for the comp group\n",
        "ax4 = sns.distplot(comp_group_concat['CO AQI'], color='orange')\n",
        "\n",
        "#plot the distribution of CO AQI for salt lake city\n",
        "ax4 = sns.distplot(sl_group['CO AQI'], color='skyblue')\n",
        "\n",
        "ax4.set_title('Distribution of CO AQI for Salt Lake City and Comp Cities')"
      ],
      "execution_count": null,
      "outputs": [
        {
          "output_type": "execute_result",
          "data": {
            "text/plain": [
              "Text(0.5, 1.0, 'Distribution of CO AQI for Salt Lake City and Comp Cities')"
            ]
          },
          "metadata": {
            "tags": []
          },
          "execution_count": 26
        },
        {
          "output_type": "display_data",
          "data": {
            "image/png": "[encoded data removed]",
            "text/plain": [
              "<Figure size 432x288 with 1 Axes>"
            ]
          },
          "metadata": {
            "tags": []
          }
        }
      ]
    },
    {
      "cell_type": "markdown",
      "metadata": {
        "id": "XuaAj7OBAg73"
      },
      "source": [
        "AX4 Interpretation\n",
        "\n",
        "\n",
        "---\n",
        "\n",
        "The CO AQI for both Salt Lake City and the comparison group are normally distributed."
      ]
    },
    {
      "cell_type": "code",
      "metadata": {
        "id": "Lv5G2gX4JLYh"
      },
      "source": [
        "#add salt lake to comparison group in order to plot\n",
        "concatenated_comp_sl = pd.concat([sl_group.assign(dataset='sl_group'), comp_group_concat.assign(dataset='comp_group_concat')])"
      ],
      "execution_count": null,
      "outputs": []
    },
    {
      "cell_type": "code",
      "metadata": {
        "colab": {
          "base_uri": "https://localhost:8080/",
          "height": 312
        },
        "id": "MUVCtvHWJPfm",
        "outputId": "e172e6d8-ea4a-4ae2-a7d2-4196895a7a12"
      },
      "source": [
        "ax5 = sns.boxplot(y='NO2 AQI', x='City', data=concatenated_comp_sl)\n",
        "\n",
        "ax5.set_title('Mean NO2 AQI')"
      ],
      "execution_count": null,
      "outputs": [
        {
          "output_type": "execute_result",
          "data": {
            "text/plain": [
              "Text(0.5, 1.0, 'Mean NO2 AQI')"
            ]
          },
          "metadata": {
            "tags": []
          },
          "execution_count": 28
        },
        {
          "output_type": "display_data",
          "data": {
            "image/png": "[encoded data removed]",
            "text/plain": [
              "<Figure size 432x288 with 1 Axes>"
            ]
          },
          "metadata": {
            "tags": []
          }
        }
      ]
    },
    {
      "cell_type": "markdown",
      "metadata": {
        "id": "Jxk5zGwWA2NF"
      },
      "source": [
        "AX5 Interpretation\n",
        "\n",
        "\n",
        "---\n",
        "\n",
        "Box plots representing the mean NO2 AQI for Salt Lake City compared to the four comparison cities. The mean NO2 for Salt Lake is higher than the comp cities.\n",
        "\n"
      ]
    },
    {
      "cell_type": "code",
      "metadata": {
        "colab": {
          "base_uri": "https://localhost:8080/",
          "height": 312
        },
        "id": "Y81M8aneJQ5l",
        "outputId": "98f0f86c-044f-43e2-d563-7df05b022fa2"
      },
      "source": [
        "ax6 = sns.boxplot(y='O3 AQI', x='City', data=concatenated_comp_sl)\n",
        "\n",
        "ax6.set_title('Mean O3 AQI')"
      ],
      "execution_count": null,
      "outputs": [
        {
          "output_type": "execute_result",
          "data": {
            "text/plain": [
              "Text(0.5, 1.0, 'Mean O3 AQI')"
            ]
          },
          "metadata": {
            "tags": []
          },
          "execution_count": 29
        },
        {
          "output_type": "display_data",
          "data": {
            "image/png": "[encoded data removed]",
            "text/plain": [
              "<Figure size 432x288 with 1 Axes>"
            ]
          },
          "metadata": {
            "tags": []
          }
        }
      ]
    },
    {
      "cell_type": "markdown",
      "metadata": {
        "id": "mqPvdiXpHBDE"
      },
      "source": [
        "AX6 Interpretation\n",
        "Box plots representing the mean O3 AQI for Salt Lake City compared to the four comparison cities. The mean NO2 for Salt Lake is only slightly higher than the comp cities."
      ]
    },
    {
      "cell_type": "code",
      "metadata": {
        "colab": {
          "base_uri": "https://localhost:8080/",
          "height": 312
        },
        "id": "OC-M-4SQJVWk",
        "outputId": "0dce457b-c3e4-43b6-9186-395bc75f17a1"
      },
      "source": [
        "ax7 = sns.boxplot(y='SO2 AQI', x='City', data=concatenated_comp_sl)\n",
        "\n",
        "ax7.set_title('Mean SO2 AQI')"
      ],
      "execution_count": null,
      "outputs": [
        {
          "output_type": "execute_result",
          "data": {
            "text/plain": [
              "Text(0.5, 1.0, 'Mean SO2 AQI')"
            ]
          },
          "metadata": {
            "tags": []
          },
          "execution_count": 30
        },
        {
          "output_type": "display_data",
          "data": {
            "image/png": "[encoded data removed]",
            "text/plain": [
              "<Figure size 432x288 with 1 Axes>"
            ]
          },
          "metadata": {
            "tags": []
          }
        }
      ]
    },
    {
      "cell_type": "markdown",
      "metadata": {
        "id": "YyproB8bBRng"
      },
      "source": [
        "AX7 INTERPRETATION\n",
        "\n",
        "\n",
        "---\n",
        "\n",
        "The mean SO2 Aqi for Lousiville and Birmingham is nudging the average higher for the comp group than for Salt Lake. "
      ]
    },
    {
      "cell_type": "code",
      "metadata": {
        "colab": {
          "base_uri": "https://localhost:8080/",
          "height": 312
        },
        "id": "HaumM4x5JY85",
        "outputId": "138504c1-5daf-4b22-b368-88752746d5ce"
      },
      "source": [
        "ax8 = sns.boxplot(y='CO AQI', x='City', data=concatenated_comp_sl)\n",
        "\n",
        "ax8.set_title('Mean CO AQI')"
      ],
      "execution_count": null,
      "outputs": [
        {
          "output_type": "execute_result",
          "data": {
            "text/plain": [
              "Text(0.5, 1.0, 'Mean CO AQI')"
            ]
          },
          "metadata": {
            "tags": []
          },
          "execution_count": 31
        },
        {
          "output_type": "display_data",
          "data": {
            "image/png": "[encoded data removed]",
            "text/plain": [
              "<Figure size 432x288 with 1 Axes>"
            ]
          },
          "metadata": {
            "tags": []
          }
        }
      ]
    },
    {
      "cell_type": "markdown",
      "metadata": {
        "id": "WSHESdX-HUQy"
      },
      "source": [
        "AX8 Interpretation\n",
        "Box plots representing the mean CO AQI for Salt Lake City compared to the four comparison cities. The mean CO for Salt Lake is higher than the comp cities."
      ]
    },
    {
      "cell_type": "markdown",
      "metadata": {
        "id": "LhrenWKHHd8t"
      },
      "source": [
        "HYPOTHESIS TESTING\n",
        "\n",
        "\n",
        "---\n",
        "\n",
        "To test my hypothesis, I wanted to list out the mean AQI's for the comparison group and Salt Lake City.\n",
        "\n",
        "I then ran a tTest for each pollutant mean AQI value for Salt Lake City and the comparison group.\n",
        "\n",
        "I calculated the confidence intervals for each tTest and interpreted the results."
      ]
    },
    {
      "cell_type": "code",
      "metadata": {
        "id": "8CoXkBhzJgQD"
      },
      "source": [
        "def series_statistics_comp_NO2(column):\n",
        "    print('The mean value of the NO2 AQI column: {} for the comp group'.format(column.mean()))\n",
        "def series_statistics_comp_SO2(column):\n",
        "    print('The mean value of the SO2 AQI column: {} for the comp group'.format(column.mean()))\n",
        "def series_statistics_comp_O3(column):\n",
        "    print('The mean value of the O3 AQI column: {} for the comp group'.format(column.mean()))\n",
        "def series_statistics_comp_CO(column):\n",
        "    print('The mean value of the CO AQI column: {} for the comp group'.format(column.mean()))\n",
        "def series_statistics_sl_NO2(column):\n",
        "    print('The mean value of the NO2 AQI column: {} for the Salt Lake group'.format(column.mean()))\n",
        "def series_statistics_sl_SO2(column):\n",
        "    print('The mean value of the SO2 AQI column: {} for the Salt Lake group'.format(column.mean()))\n",
        "def series_statistics_sl_O3(column):\n",
        "    print('The mean value of the O3 AQI column: {} for the Salt Lake group'.format(column.mean()))\n",
        "def series_statistics_sl_CO(column):\n",
        "    print('The mean value of the CO AQI column: {} for the Salt Lake group'.format(column.mean()))"
      ],
      "execution_count": null,
      "outputs": []
    },
    {
      "cell_type": "code",
      "metadata": {
        "colab": {
          "base_uri": "https://localhost:8080/"
        },
        "id": "QEkDk78KJhWw",
        "outputId": "2ae8fddd-8fdd-40a9-bbb1-46e4ea573a59"
      },
      "source": [
        "#list the mean values for the salt lake group\n",
        "print(\"Mean values for the AQI's of the Salt Lake group:\")\n",
        "series_statistics_sl_NO2(sl_group['NO2 AQI'])\n",
        "series_statistics_sl_SO2(sl_group['SO2 AQI'])\n",
        "series_statistics_sl_O3(sl_group['O3 AQI'])\n",
        "series_statistics_sl_CO(sl_group['CO AQI'])"
      ],
      "execution_count": null,
      "outputs": [
        {
          "output_type": "stream",
          "text": [
            "Mean values for the AQI's of the Salt Lake group:\n",
            "The mean value of the NO2 AQI column: 29.921580547112463 for the Salt Lake group\n",
            "The mean value of the SO2 AQI column: 1.4778115501519757 for the Salt Lake group\n",
            "The mean value of the O3 AQI column: 40.51914893617021 for the Salt Lake group\n",
            "The mean value of the CO AQI column: 5.6790273556231 for the Salt Lake group\n"
          ],
          "name": "stdout"
        }
      ]
    },
    {
      "cell_type": "code",
      "metadata": {
        "colab": {
          "base_uri": "https://localhost:8080/"
        },
        "id": "K10qyLcjJlxx",
        "outputId": "81fdca61-d100-4241-8385-1b437770c1f7"
      },
      "source": [
        "#list the mean values for the comp group\n",
        "print(\"Mean values for the AQI's of the comp group:\")\n",
        "series_statistics_comp_NO2(comp_group_concat['NO2 AQI'])\n",
        "series_statistics_comp_SO2(comp_group_concat['SO2 AQI'])\n",
        "series_statistics_comp_O3(comp_group_concat['O3 AQI'])\n",
        "series_statistics_comp_CO(comp_group_concat['CO AQI'])"
      ],
      "execution_count": null,
      "outputs": [
        {
          "output_type": "stream",
          "text": [
            "Mean values for the AQI's of the comp group:\n",
            "The mean value of the NO2 AQI column: 16.38568588469185 for the comp group\n",
            "The mean value of the SO2 AQI column: 2.8131212723658052 for the comp group\n",
            "The mean value of the O3 AQI column: 39.30048281738143 for the comp group\n",
            "The mean value of the CO AQI column: 3.3689292814541325 for the comp group\n"
          ],
          "name": "stdout"
        }
      ]
    },
    {
      "cell_type": "markdown",
      "metadata": {
        "id": "YBU9ymQ6JvNX"
      },
      "source": [
        "The mean AQI's for Salt Lake City are higher than the comparison group for NO2, O3 and CO.\n",
        "The mean SO2 AQI for Salt Lake City is lower than the comparison group. \n",
        "\n",
        "\n"
      ]
    },
    {
      "cell_type": "code",
      "metadata": {
        "colab": {
          "base_uri": "https://localhost:8080/"
        },
        "id": "ODi-AvdTJpdn",
        "outputId": "0b97b130-e5fe-4a87-c8fa-ac308201a487"
      },
      "source": [
        "#ttest for salt lake vs comp group for NO2\n",
        "stats.ttest_ind(sl_group['NO2 AQI'], comp_group_concat['NO2 AQI'])"
      ],
      "execution_count": null,
      "outputs": [
        {
          "output_type": "execute_result",
          "data": {
            "text/plain": [
              "Ttest_indResult(statistic=44.27174722732451, pvalue=0.0)"
            ]
          },
          "metadata": {
            "tags": []
          },
          "execution_count": 35
        }
      ]
    },
    {
      "cell_type": "code",
      "metadata": {
        "colab": {
          "base_uri": "https://localhost:8080/"
        },
        "id": "T4TmZ1_PJ6p5",
        "outputId": "449b7db8-a9bc-4470-a730-fda01eb65923"
      },
      "source": [
        "#ttest for salt lake vs comp group for SO2\n",
        "stats.ttest_ind(sl_group['SO2 AQI'], comp_group_concat['SO2 AQI'])"
      ],
      "execution_count": null,
      "outputs": [
        {
          "output_type": "execute_result",
          "data": {
            "text/plain": [
              "Ttest_indResult(statistic=-8.083813920895958, pvalue=7.753772646730877e-16)"
            ]
          },
          "metadata": {
            "tags": []
          },
          "execution_count": 36
        }
      ]
    },
    {
      "cell_type": "code",
      "metadata": {
        "colab": {
          "base_uri": "https://localhost:8080/"
        },
        "id": "1k1s4NamJ-ET",
        "outputId": "bba02943-a254-44d0-e8e7-2afd80f545c9"
      },
      "source": [
        "#ttest for salt lake vs comp group for O3\n",
        "stats.ttest_ind(sl_group['O3 AQI'], comp_group_concat['O3 AQI'])"
      ],
      "execution_count": null,
      "outputs": [
        {
          "output_type": "execute_result",
          "data": {
            "text/plain": [
              "Ttest_indResult(statistic=2.106344193034903, pvalue=0.03522259416160483)"
            ]
          },
          "metadata": {
            "tags": []
          },
          "execution_count": 37
        }
      ]
    },
    {
      "cell_type": "code",
      "metadata": {
        "colab": {
          "base_uri": "https://localhost:8080/"
        },
        "id": "3toZa67nKBGE",
        "outputId": "924505d1-2e9e-435d-8b1d-101e8cb63af8"
      },
      "source": [
        "#ttest for salt lake vs comp group for O3\n",
        "stats.ttest_ind(sl_group['CO AQI'], comp_group_concat['CO AQI'])"
      ],
      "execution_count": null,
      "outputs": [
        {
          "output_type": "execute_result",
          "data": {
            "text/plain": [
              "Ttest_indResult(statistic=27.373671508790558, pvalue=3.59466837841497e-154)"
            ]
          },
          "metadata": {
            "tags": []
          },
          "execution_count": 38
        }
      ]
    },
    {
      "cell_type": "markdown",
      "metadata": {
        "id": "HD_0pTejKQnS"
      },
      "source": [
        "All the AQI Ttest's resulted in a p-value < 0.05 and therefore we can reject the Null hypothesis that there is no difference in the mean AQI between Salt Lake City and the comparison group."
      ]
    },
    {
      "cell_type": "code",
      "metadata": {
        "id": "1RYyPiBQKGQC"
      },
      "source": [
        "# calculate the sample size, mean, and variance then calculate standard errors and compute the confidence intervals\n",
        "\n",
        "import math \n",
        "\n",
        "def get_95_ci(array_1, array_2):\n",
        "    sample_1_n = array_1.shape[0]\n",
        "    sample_2_n = array_2.shape[0]\n",
        "    sample_1_mean = array_1.mean()\n",
        "    sample_2_mean = array_2.mean()\n",
        "    sample_1_var = array_1.var()\n",
        "    sample_2_var = array_2.var()\n",
        "    mean_difference = sample_2_mean - sample_1_mean\n",
        "    std_err_difference = math.sqrt((sample_1_var/sample_1_n)+(sample_2_var/sample_2_n))\n",
        "    margin_of_error = 1.96 * std_err_difference\n",
        "    ci_lower = mean_difference - margin_of_error\n",
        "    ci_upper = mean_difference + margin_of_error\n",
        "    print(\"The difference in mean values for Salt Lake City and the comp group at the 95% confidence interval is between \"+str(ci_lower)+\" and \"+str(ci_upper)+\".\")"
      ],
      "execution_count": null,
      "outputs": []
    },
    {
      "cell_type": "code",
      "metadata": {
        "colab": {
          "base_uri": "https://localhost:8080/"
        },
        "id": "HF7tGyOYKbUi",
        "outputId": "8948d500-32dd-4250-e1d9-3d7068e7c240"
      },
      "source": [
        "# run confidence interval function for NO2 AQI\n",
        "print('NO2 AQI: ')\n",
        "get_95_ci(sl_group['NO2 AQI'],comp_group_concat['NO2 AQI'])\n"
      ],
      "execution_count": null,
      "outputs": [
        {
          "output_type": "stream",
          "text": [
            "NO2 AQI: \n",
            "The difference in mean values for Salt Lake City and the comp group at the 95% confidence interval is between -14.160762443421643 and -12.911026881419584.\n"
          ],
          "name": "stdout"
        }
      ]
    },
    {
      "cell_type": "code",
      "metadata": {
        "colab": {
          "base_uri": "https://localhost:8080/"
        },
        "id": "1SCZ2jx2Keex",
        "outputId": "89c524c2-7dba-423c-8f62-170b94f58750"
      },
      "source": [
        "# run confidence interval function for SO2 AQI\n",
        "print('SO2 AQI: ')\n",
        "get_95_ci(sl_group['SO2 AQI'],comp_group_concat['SO2 AQI'])"
      ],
      "execution_count": null,
      "outputs": [
        {
          "output_type": "stream",
          "text": [
            "SO2 AQI: \n",
            "The difference in mean values for Salt Lake City and the comp group at the 95% confidence interval is between 1.0812511419227695 and 1.5893683025048895.\n"
          ],
          "name": "stdout"
        }
      ]
    },
    {
      "cell_type": "code",
      "metadata": {
        "colab": {
          "base_uri": "https://localhost:8080/"
        },
        "id": "c3pkBrWEKiRe",
        "outputId": "e8ee56f0-b639-4036-f01d-beb242a9c021"
      },
      "source": [
        "# run confidence interval function for NO2 AQI\n",
        "print('O3 AQI: ')\n",
        "get_95_ci(sl_group['O3 AQI'],comp_group_concat['O3 AQI'])"
      ],
      "execution_count": null,
      "outputs": [
        {
          "output_type": "stream",
          "text": [
            "O3 AQI: \n",
            "The difference in mean values for Salt Lake City and the comp group at the 95% confidence interval is between -2.4267623702926224 and -0.010569867284942136.\n"
          ],
          "name": "stdout"
        }
      ]
    },
    {
      "cell_type": "code",
      "metadata": {
        "colab": {
          "base_uri": "https://localhost:8080/"
        },
        "id": "4QdtJYmpKmpE",
        "outputId": "a419bd13-6d1f-4bbb-c681-fb00f8236adb"
      },
      "source": [
        "# run confidence interval function for NO2 AQI\n",
        "print('CO AQI: ')\n",
        "get_95_ci(sl_group['CO AQI'],comp_group_concat['CO AQI'])"
      ],
      "execution_count": null,
      "outputs": [
        {
          "output_type": "stream",
          "text": [
            "CO AQI: \n",
            "The difference in mean values for Salt Lake City and the comp group at the 95% confidence interval is between -2.5046687909012855 and -2.11552735743665.\n"
          ],
          "name": "stdout"
        }
      ]
    },
    {
      "cell_type": "markdown",
      "metadata": {
        "id": "1JhDUYaMKtBU"
      },
      "source": [
        "STATISTICAL ANALYSIS\n",
        "\n",
        "\n",
        "---\n",
        "\n",
        "\n",
        "\n",
        "NO2 -\n",
        "Reject the null that there is no difference between Salt Lake City and the comparison group for average NO2.\n",
        "The difference is signifcant at p = 0.0. \n",
        "The 95% confidence interval for the population difference is 12.91 and 14.16, with Salt Lake having the higher NO2.\n",
        "\n",
        "SO2 -\n",
        "Reject the null that there is no difference between Salt Lake City and the comparison group for average SO2.\n",
        "The difference is signifcant at p = 7.753772646730877e-16. \n",
        "The 95% confidence interval for the population difference is 1.08 and 1.59.\n",
        "The mean SO2 AQI for Salt Lake City is 1.48 vs 2.8 for the comp group. The average SO2 is higher for the comparison group than Salt Lake City.\n",
        "\n",
        "O3 -\n",
        "Reject the null that there is no difference between Salt Lake City and the comparison group for average O3.\n",
        "The difference is signifcant at p = 0.03522259416160483. \n",
        "The 95% confidence interval for the population difference is 0.01 and 2.43.\n",
        "The mean O3 AQI for Salt Lake City is 40.5 vs 39.3 for the comp group. Using the confidence interval, the difference is between 0.01 and 2.4 AQI.\n",
        "\n",
        "CO -\n",
        "Reject the null that there is no difference between Salt Lake City and the comparison group for average CO.\n",
        "The difference is signifcant at p = 3.59466837841497e-154.\n",
        "The mean CO AQI for Salt Lake City is 5.7 vs 3.37 for the comp group. Using the confidence interval, the difference is likely between 2.1 and 2.5 AQI."
      ]
    },
    {
      "cell_type": "markdown",
      "metadata": {
        "id": "FCcjAaMsKTGp"
      },
      "source": [
        "CONCLUSION\n",
        "\n",
        "\n",
        "---\n",
        "\n",
        "The air quality in Salt Lake City is worse than cities of comparable metro populations and population density. \n",
        "\n",
        "City officials should take steps to reduce air pollution from vehicles and industry to prevent air quality from worsening as the population continues to increase."
      ]
    },
    {
      "cell_type": "markdown",
      "metadata": {
        "id": "C7eekSFgNLwA"
      },
      "source": [
        "FURTHER CONSIDERATIONS\n",
        "\n",
        "\n",
        "---\n",
        "\n",
        "\n",
        "Upon further research, there are two coal power plants near Birmingham, AL that would account for the higher SO2 levels in that city. Taking this into consideration we can conclude that Salt Lake City has worse air quality over all than cities of comparable metro population size and density. \n",
        "\n",
        "Further, analysis could be done on AQI throughout the seasons and highlighting which sample locations are contributing the most to overall pollution to pinpoint sources."
      ]
    },
    {
      "cell_type": "markdown",
      "metadata": {
        "id": "5vwLo6PcheGP"
      },
      "source": [
        "Confidence Intervals\n",
        "\n",
        "\n",
        "---\n",
        "\n",
        "The following code is to find the variance and sample size of each component. I then visualized confidence intervals in Excel."
      ]
    },
    {
      "cell_type": "code",
      "metadata": {
        "id": "GL4RcM8NK2L8",
        "colab": {
          "base_uri": "https://localhost:8080/"
        },
        "outputId": "57c8f0e9-8cc5-4691-aacb-ac97af578b80"
      },
      "source": [
        "sl_var = sl_group['NO2 AQI'].var()\n",
        "sl_shape = sl_group['NO2 AQI'].shape[0]\n",
        "sl_var\n",
        "sl_shape"
      ],
      "execution_count": null,
      "outputs": [
        {
          "output_type": "execute_result",
          "data": {
            "text/plain": [
              "1645"
            ]
          },
          "metadata": {
            "tags": []
          },
          "execution_count": 53
        }
      ]
    },
    {
      "cell_type": "code",
      "metadata": {
        "colab": {
          "base_uri": "https://localhost:8080/"
        },
        "id": "k-0UrDafVJMs",
        "outputId": "38becb4a-0934-4c18-fa5e-23b4189c365c"
      },
      "source": [
        "sl_var"
      ],
      "execution_count": null,
      "outputs": [
        {
          "output_type": "execute_result",
          "data": {
            "text/plain": [
              "121.97742329110545"
            ]
          },
          "metadata": {
            "tags": []
          },
          "execution_count": 54
        }
      ]
    },
    {
      "cell_type": "code",
      "metadata": {
        "id": "bbzTKP2iTy8y"
      },
      "source": [
        "cg_var = comp_group_concat['NO2 AQI'].var()\n",
        "cg_shape = comp_group_concat['NO2 AQI'].shape[0]"
      ],
      "execution_count": null,
      "outputs": []
    },
    {
      "cell_type": "code",
      "metadata": {
        "colab": {
          "base_uri": "https://localhost:8080/"
        },
        "id": "rKcmUEkcVren",
        "outputId": "fc68428a-67f2-414b-9b04-6f03e94b9f0d"
      },
      "source": [
        "cg_var"
      ],
      "execution_count": null,
      "outputs": [
        {
          "output_type": "execute_result",
          "data": {
            "text/plain": [
              "96.79040868425723"
            ]
          },
          "metadata": {
            "tags": []
          },
          "execution_count": 56
        }
      ]
    },
    {
      "cell_type": "code",
      "metadata": {
        "colab": {
          "base_uri": "https://localhost:8080/"
        },
        "id": "P8m8kqlUVtTb",
        "outputId": "07da1165-e84a-4af7-c9e4-ad761ad1d800"
      },
      "source": [
        "cg_shape"
      ],
      "execution_count": null,
      "outputs": [
        {
          "output_type": "execute_result",
          "data": {
            "text/plain": [
              "3521"
            ]
          },
          "metadata": {
            "tags": []
          },
          "execution_count": 57
        }
      ]
    },
    {
      "cell_type": "code",
      "metadata": {
        "colab": {
          "base_uri": "https://localhost:8080/"
        },
        "id": "6xZC9e2pUCG-",
        "outputId": "acd8c56b-892e-4670-82bc-904e67bfff24"
      },
      "source": [
        "#math.sqrt((sample_1_var/sample_1_n)+(sample_2_var/sample_2_n))\n",
        "std_error_sl = math.sqrt((sl_var/sl_shape)+(cg_var/cg_shape))\n",
        "std_error_sl"
      ],
      "execution_count": null,
      "outputs": [
        {
          "output_type": "execute_result",
          "data": {
            "text/plain": [
              "0.31881009234746416"
            ]
          },
          "metadata": {
            "tags": []
          },
          "execution_count": 58
        }
      ]
    },
    {
      "cell_type": "code",
      "metadata": {
        "id": "Dct2_FKNYdSx"
      },
      "source": [
        "sl_var = sl_group['SO2 AQI'].var()\n",
        "sl_shape = sl_group['SO2 AQI'].shape[0]"
      ],
      "execution_count": null,
      "outputs": []
    },
    {
      "cell_type": "code",
      "metadata": {
        "colab": {
          "base_uri": "https://localhost:8080/"
        },
        "id": "pr-ZTYUrYhk1",
        "outputId": "0630a241-365a-4b44-e970-1ee14ac68e5e"
      },
      "source": [
        "sl_var"
      ],
      "execution_count": null,
      "outputs": [
        {
          "output_type": "execute_result",
          "data": {
            "text/plain": [
              "8.533114429185387"
            ]
          },
          "metadata": {
            "tags": []
          },
          "execution_count": 60
        }
      ]
    },
    {
      "cell_type": "code",
      "metadata": {
        "colab": {
          "base_uri": "https://localhost:8080/"
        },
        "id": "fspj4GHVYjg9",
        "outputId": "82a41fe9-84c8-4876-8b04-87a3156f3224"
      },
      "source": [
        "sl_shape"
      ],
      "execution_count": null,
      "outputs": [
        {
          "output_type": "execute_result",
          "data": {
            "text/plain": [
              "1645"
            ]
          },
          "metadata": {
            "tags": []
          },
          "execution_count": 62
        }
      ]
    },
    {
      "cell_type": "code",
      "metadata": {
        "id": "WdHM1V5lY7Wi"
      },
      "source": [
        "cg_var = comp_group_concat['SO2 AQI'].var()\n",
        "cg_shape = comp_group_concat['SO2 AQI'].shape[0]"
      ],
      "execution_count": null,
      "outputs": []
    },
    {
      "cell_type": "code",
      "metadata": {
        "colab": {
          "base_uri": "https://localhost:8080/"
        },
        "id": "qNhnb3xPY-A_",
        "outputId": "7cad8169-5846-491c-92af-e88b0c035487"
      },
      "source": [
        "cg_var"
      ],
      "execution_count": null,
      "outputs": [
        {
          "output_type": "execute_result",
          "data": {
            "text/plain": [
              "40.89461187420434"
            ]
          },
          "metadata": {
            "tags": []
          },
          "execution_count": 64
        }
      ]
    },
    {
      "cell_type": "code",
      "metadata": {
        "colab": {
          "base_uri": "https://localhost:8080/"
        },
        "id": "f82bQPYcZAHz",
        "outputId": "8ce93765-21ea-4167-97e0-6172ce6698d5"
      },
      "source": [
        "cg_shape"
      ],
      "execution_count": null,
      "outputs": [
        {
          "output_type": "execute_result",
          "data": {
            "text/plain": [
              "3521"
            ]
          },
          "metadata": {
            "tags": []
          },
          "execution_count": 65
        }
      ]
    },
    {
      "cell_type": "code",
      "metadata": {
        "id": "dWPfq6fIZm6O"
      },
      "source": [
        "sl_var = sl_group['O3 AQI'].var()\n",
        "sl_shape = sl_group['O3 AQI'].shape[0]"
      ],
      "execution_count": null,
      "outputs": []
    },
    {
      "cell_type": "code",
      "metadata": {
        "colab": {
          "base_uri": "https://localhost:8080/"
        },
        "id": "x0sgUlHjZoVW",
        "outputId": "f0812508-92ad-4565-ad6d-8e01bc1c5eeb"
      },
      "source": [
        "sl_var"
      ],
      "execution_count": null,
      "outputs": [
        {
          "output_type": "execute_result",
          "data": {
            "text/plain": [
              "470.36535693948485"
            ]
          },
          "metadata": {
            "tags": []
          },
          "execution_count": 72
        }
      ]
    },
    {
      "cell_type": "code",
      "metadata": {
        "id": "6CF5u9ihZqcy"
      },
      "source": [
        "cg_var = comp_group_concat['O3 AQI'].var()\n",
        "cg_shape = comp_group_concat['O3 AQI'].shape[0]"
      ],
      "execution_count": null,
      "outputs": []
    },
    {
      "cell_type": "code",
      "metadata": {
        "colab": {
          "base_uri": "https://localhost:8080/"
        },
        "id": "yT0jexYcZtik",
        "outputId": "404281c4-08d5-42f4-e663-e0017dd6724d"
      },
      "source": [
        "cg_var"
      ],
      "execution_count": null,
      "outputs": [
        {
          "output_type": "execute_result",
          "data": {
            "text/plain": [
              "330.9125253350019"
            ]
          },
          "metadata": {
            "tags": []
          },
          "execution_count": 74
        }
      ]
    },
    {
      "cell_type": "code",
      "metadata": {
        "colab": {
          "base_uri": "https://localhost:8080/"
        },
        "id": "tT4tJB-iZvH9",
        "outputId": "01676fea-c937-4801-e3a6-0abe90636c54"
      },
      "source": [
        "cg_shape"
      ],
      "execution_count": null,
      "outputs": [
        {
          "output_type": "execute_result",
          "data": {
            "text/plain": [
              "3521"
            ]
          },
          "metadata": {
            "tags": []
          },
          "execution_count": 76
        }
      ]
    },
    {
      "cell_type": "code",
      "metadata": {
        "id": "Sx-en5NMaetF"
      },
      "source": [
        "sl_var = sl_group['CO AQI'].var()\n",
        "sl_shape = sl_group['CO AQI'].shape[0]"
      ],
      "execution_count": null,
      "outputs": []
    },
    {
      "cell_type": "code",
      "metadata": {
        "colab": {
          "base_uri": "https://localhost:8080/"
        },
        "id": "i3OwSLhMagvE",
        "outputId": "55531593-dd06-4044-ec9d-c7c58ec956ea"
      },
      "source": [
        "sl_var"
      ],
      "execution_count": null,
      "outputs": [
        {
          "output_type": "execute_result",
          "data": {
            "text/plain": [
              "13.735113408618552"
            ]
          },
          "metadata": {
            "tags": []
          },
          "execution_count": 80
        }
      ]
    },
    {
      "cell_type": "code",
      "metadata": {
        "id": "hVxH4aQ7almH"
      },
      "source": [
        "cg_var = comp_group_concat['CO AQI'].var()\n",
        "cg_shape = comp_group_concat['CO AQI'].shape[0]"
      ],
      "execution_count": null,
      "outputs": []
    },
    {
      "cell_type": "code",
      "metadata": {
        "id": "ilIpKKm-aplE",
        "colab": {
          "base_uri": "https://localhost:8080/"
        },
        "outputId": "ae1d27b2-764f-4626-d823-c14e8107eb91"
      },
      "source": [
        "cg_var"
      ],
      "execution_count": null,
      "outputs": [
        {
          "output_type": "execute_result",
          "data": {
            "text/plain": [
              "5.299363881645008"
            ]
          },
          "metadata": {
            "tags": []
          },
          "execution_count": 82
        }
      ]
    },
    {
      "cell_type": "markdown",
      "metadata": {
        "id": "vhXtqoh4NJsa"
      },
      "source": [
        ""
      ]
    }
  ]
}